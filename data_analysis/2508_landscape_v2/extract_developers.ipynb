{
 "cells": [
  {
   "cell_type": "code",
   "execution_count": 1,
   "id": "3c947852",
   "metadata": {},
   "outputs": [
    {
     "name": "stderr",
     "output_type": "stream",
     "text": [
      "/Users/xiaoyawork/Library/Python/3.9/lib/python/site-packages/urllib3/__init__.py:35: NotOpenSSLWarning: urllib3 v2 only supports OpenSSL 1.1.1+, currently the 'ssl' module is compiled with 'LibreSSL 2.8.3'. See: https://github.com/urllib3/urllib3/issues/3020\n",
      "  warnings.warn(\n"
     ]
    }
   ],
   "source": [
    "import os\n",
    "import requests\n",
    "from dotenv import load_dotenv\n",
    "import clickhouse_connect\n",
    "import itertools\n",
    "import pandas as pd\n",
    "import json\n",
    "load_dotenv()\n",
    "clickhouse_host = os.getenv(\"CLICKHOUSE_HOST\")\n",
    "username = os.getenv(\"CLICKHOUSE_USER\")\n",
    "password = os.getenv(\"CLICKHOUSE_PASSWORD\")\n",
    "github_token = os.getenv(\"GITHUB_TOKEN\")\n",
    "\n",
    "client = clickhouse_connect.get_client(host=clickhouse_host, port=8123, username=username, password=password)\n",
    "\n",
    "headers = {\n",
    "  \"Authorization\": f\"token {github_token}\"\n",
    "}"
   ]
  },
  {
   "cell_type": "code",
   "execution_count": null,
   "id": "819f2ad4",
   "metadata": {},
   "outputs": [
    {
     "name": "stdout",
     "output_type": "stream",
     "text": [
      "开发者信息已保存到 developers_info.csv\n"
     ]
    }
   ],
   "source": [
    "# 通过 GitHub API 批量获取开发者信息\n",
    "\n",
    "def get_user_info(username):\n",
    "    \"\"\"获取单个用户的信息\"\"\"\n",
    "    url = f\"https://api.github.com/users/{username}\"\n",
    "    response = requests.get(url, headers=headers)\n",
    "    if response.status_code == 200:\n",
    "        data = response.json()\n",
    "        return {\n",
    "            'username': username,\n",
    "            'company': data.get('company'),\n",
    "            'location': data.get('location'), \n",
    "            'email': data.get('email'),\n",
    "            'bio': data.get('bio')\n",
    "        }\n",
    "    return None\n",
    "\n",
    "usernames = [\n",
    "    \"A-transformer\"\n",
    "]\n",
    "\n",
    "def get_developers_info(usernames):\n",
    "    \"\"\"批量获取开发者信息\"\"\"\n",
    "    results = []\n",
    "    for username in usernames:\n",
    "        user_info = get_user_info(username)\n",
    "        if user_info:\n",
    "            results.append(user_info)\n",
    "    return pd.DataFrame(results)\n",
    "\n",
    "# 获取开发者信息并保存到 CSV\n",
    "developers_df = get_developers_info(usernames)\n",
    "\n",
    "# 定义 CSV 文件名\n",
    "csv_file = \"developers_info.csv\"\n",
    "\n",
    "# 保存到 CSV 文件,使用 utf-8 编码以支持中文\n",
    "developers_df.to_csv(csv_file, index=False, encoding='utf-8-sig')\n",
    "\n",
    "print(f\"开发者信息已保存到 {csv_file}\")\n"
   ]
  },
  {
   "cell_type": "markdown",
   "id": "3b971f84",
   "metadata": {},
   "source": [
    "## vLLM 和 SGLang 的开发者社区案例分析"
   ]
  },
  {
   "cell_type": "code",
   "execution_count": null,
   "id": "86766724",
   "metadata": {},
   "outputs": [],
   "source": []
  }
 ],
 "metadata": {
  "kernelspec": {
   "display_name": "Python 3",
   "language": "python",
   "name": "python3"
  },
  "language_info": {
   "codemirror_mode": {
    "name": "ipython",
    "version": 3
   },
   "file_extension": ".py",
   "mimetype": "text/x-python",
   "name": "python",
   "nbconvert_exporter": "python",
   "pygments_lexer": "ipython3",
   "version": "3.9.6"
  }
 },
 "nbformat": 4,
 "nbformat_minor": 5
}

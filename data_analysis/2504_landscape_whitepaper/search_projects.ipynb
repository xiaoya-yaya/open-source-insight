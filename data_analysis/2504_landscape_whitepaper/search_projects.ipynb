{
 "cells": [
  {
   "cell_type": "code",
   "execution_count": 1,
   "id": "ae59aada",
   "metadata": {},
   "outputs": [
    {
     "name": "stderr",
     "output_type": "stream",
     "text": [
      "/Users/xiaoyawork/Library/Python/3.9/lib/python/site-packages/urllib3/__init__.py:35: NotOpenSSLWarning: urllib3 v2 only supports OpenSSL 1.1.1+, currently the 'ssl' module is compiled with 'LibreSSL 2.8.3'. See: https://github.com/urllib3/urllib3/issues/3020\n",
      "  warnings.warn(\n"
     ]
    }
   ],
   "source": [
    "import os\n",
    "import requests\n",
    "from dotenv import load_dotenv\n",
    "import clickhouse_connect\n",
    "import itertools\n",
    "import pandas as pd\n",
    "import json\n",
    "\n",
    "load_dotenv()\n",
    "clickhouse_host = os.getenv(\"CLICKHOUSE_HOST\")\n",
    "username = os.getenv(\"CLICKHOUSE_USER\")\n",
    "password = os.getenv(\"CLICKHOUSE_PASSWORD\")\n",
    "github_token = os.getenv(\"GITHUB_TOKEN\")\n",
    "\n",
    "client = clickhouse_connect.get_client(host=clickhouse_host, port=8123, username=username, password=password)\n",
    "\n",
    "headers = {\n",
    "  \"Authorization\": f\"token {github_token}\"\n",
    "}"
   ]
  },
  {
   "cell_type": "code",
   "execution_count": 2,
   "id": "b46d3fc6",
   "metadata": {},
   "outputs": [],
   "source": [
    "# search most related projects\n",
    "def search_projects(project_ids, limit):\n",
    "    sql_search_projects = \"\"\"\n",
    "    WITH\n",
    "        -- 获取仓库在指定时间段内的活跃开发者\n",
    "        active_developers AS (\n",
    "            SELECT DISTINCT actor_id, repo_id, repo_name\n",
    "            FROM opensource.events\n",
    "            WHERE repo_id IN (%s)\n",
    "            AND (type IN ('IssuesEvent', 'PullRequestEvent', 'IssueCommentEvent', 'PullRequestReviewEvent','PullRequestReviewCommentEvent'))\n",
    "            AND created_at >= '2025-01-01'\n",
    "        ),\n",
    "        -- 计算其他仓库中的活跃开发者\n",
    "        repo_activity AS (\n",
    "            SELECT repo_id, repo_name, COUNT(DISTINCT actor_id) AS active_count\n",
    "            FROM opensource.events\n",
    "            WHERE actor_id IN (SELECT actor_id FROM active_developers)\n",
    "            AND repo_id NOT IN (%s)\n",
    "            AND (type IN ('IssuesEvent', 'PullRequestEvent', 'IssueCommentEvent','PullRequestReviewEvent', 'PullRequestReviewCommentEvent'))\n",
    "            AND created_at >= '2025-01-01'\n",
    "            GROUP BY repo_id, repo_name\n",
    "        )\n",
    "        -- 获取关联度最高的 x 个仓库\n",
    "        SELECT repo_id, repo_name, active_count\n",
    "        FROM repo_activity\n",
    "        ORDER BY active_count DESC\n",
    "        LIMIT %s\n",
    "        \"\"\"\n",
    "    formatted_query = sql_search_projects % (', '.join(f\"'{id}'\" for id in project_ids), ', '.join(f\"'{id}'\" for id in project_ids), limit)\n",
    "    results = client.query(formatted_query)\n",
    "    return results"
   ]
  },
  {
   "cell_type": "code",
   "execution_count": 12,
   "id": "02587fef",
   "metadata": {},
   "outputs": [],
   "source": [
    "repo_ids = [\n",
    "  \"646410686\", \"725205304\", \"178626720\", \"23496542\", \"523007292\", \"669331976\", \"308638334\", \"494232964\", \n",
    "  \"46153892\", \"933928679\", \"658928958\", \"679366051\", \"653496050\", \"151636194\", \"178075572\", \"634081686\", \n",
    "  \"819733173\", \"178976529\", \"615882673\", \"942206898\", \"813348592\", \"619959033\", \"599547518\", \"740303686\", \n",
    "  \"612354784\", \"156939672\", \"833984877\", \"654122609\", \"547806116\", \"153097643\", \"1460385\", \"5108051\", \n",
    "  \"843222\", \"16587283\", \"102692863\", \"73328905\", \"145670234\", \"112647343\", \"707869465\", \"881221486\", \n",
    "  \"534011733\", \"200722670\", \"136202695\", \"86031674\", \"205706595\", \"448599559\", \"216628419\", \"209120637\", \n",
    "  \"314197645\", \"155220641\", \"498011141\", \"517552648\", \"342728683\", \"65600975\", \"65711522\", \"154739597\", \n",
    "  \"45717250\", \"33015583\", \"422274596\", \"235860204\", \"176982014\", \"114185437\", \"753490180\"\n",
    "]\n",
    "\n",
    "projects = set()\n",
    "for repo_id in repo_ids:\n",
    "    results = search_projects([repo_id], 5)\n",
    "    for row in results.result_rows:\n",
    "        projects.add (row[0])\n",
    "projects = list(projects)\n",
    "\n",
    "repo_ids_int = [int(id) for id in repo_ids]\n",
    "\n",
    "projects_ids = list(set(projects) - set(repo_ids_int))"
   ]
  },
  {
   "cell_type": "code",
   "execution_count": 14,
   "id": "596ff5f8",
   "metadata": {},
   "outputs": [
    {
     "data": {
      "text/plain": [
       "142"
      ]
     },
     "execution_count": 14,
     "metadata": {},
     "output_type": "execute_result"
    }
   ],
   "source": [
    "len(projects_ids)"
   ]
  },
  {
   "cell_type": "code",
   "execution_count": 15,
   "id": "ca42dee8",
   "metadata": {},
   "outputs": [
    {
     "name": "stdout",
     "output_type": "stream",
     "text": [
      "Found 72 projects with openrank >= 50\n"
     ]
    }
   ],
   "source": [
    "def get_projects_openrank(project_ids):\n",
    "  sql_get_openrank = \"\"\"\n",
    "  SELECT repo_id, repo_name, SUM(openrank) as total_openrank\n",
    "  FROM opensource.global_openrank\n",
    "  WHERE repo_id IN (%s)\n",
    "  AND created_at >= '2025-01-01'\n",
    "  GROUP BY repo_id, repo_name\n",
    "  \"\"\"\n",
    "  formatted_query = sql_get_openrank % (', '.join(f\"'{id}'\" for id in project_ids))\n",
    "  results = client.query(formatted_query)\n",
    "  \n",
    "  filtered_projects = []\n",
    "  for row in results.result_rows:\n",
    "    repo_id = row[0]\n",
    "    repo_name = row[1]\n",
    "    total_openrank = float(row[2])\n",
    "    if total_openrank >= 50:\n",
    "      filtered_projects.append((repo_id, repo_name, total_openrank))\n",
    "  \n",
    "  filtered_projects.sort(key=lambda x: x[2], reverse=True)\n",
    "  return filtered_projects\n",
    "  \n",
    "projects_with_openrank = get_projects_openrank(projects_ids)\n",
    "print(f\"Found {len(projects_with_openrank)} projects with openrank >= 50\")\n",
    "\n",
    "# Extract project IDs and names for further use\n",
    "filtered_projects_ids = [proj[0] for proj in projects_with_openrank]\n",
    "filtered_projects_names = [proj[1] for proj in projects_with_openrank]\n",
    "\n",
    "# Create a dictionary mapping IDs to names for easy lookup\n",
    "filtered_projects_dict = {proj[0]: proj[1] for proj in projects_with_openrank}"
   ]
  },
  {
   "cell_type": "code",
   "execution_count": 16,
   "id": "fc3cc409",
   "metadata": {},
   "outputs": [
    {
     "name": "stdout",
     "output_type": "stream",
     "text": [
      "Saved 72 projects to filtered_projects.csv\n"
     ]
    }
   ],
   "source": [
    "# Convert the dictionary to a DataFrame\n",
    "projects_df = pd.DataFrame(list(filtered_projects_dict.items()), columns=['repo_id', 'repo_name'])\n",
    "\n",
    "# Save the DataFrame to a CSV file\n",
    "projects_df.to_csv('searched_projects.csv', index=False)\n",
    "\n",
    "print(f\"Saved {len(filtered_projects_dict)} projects to filtered_projects.csv\")"
   ]
  },
  {
   "cell_type": "code",
   "execution_count": 18,
   "id": "e29e1060",
   "metadata": {},
   "outputs": [
    {
     "data": {
      "text/plain": [
       "66"
      ]
     },
     "execution_count": 18,
     "metadata": {},
     "output_type": "execute_result"
    }
   ],
   "source": [
    "ai_application = [\n",
    "  656099147, 703411624, 710601088, 615510678, 946380199, 660551251, 643445235,\n",
    "  605673387, 691347156, 621799276, 730534580, 626805178, 193215554, 552661142,\n",
    "  560704231, 680120071, 607289185, 676672661, 621803253, 614765452, 627480054,\n",
    "  221654678, 599524116, 870189331, 761974775, 784181462, 839372398, 747030811,\n",
    "  834688418, 782539945, 576642715, 671269505, 890668799, 631254164, 762304524,\n",
    "  954873280, 862449441, 644686905, 824874689, 771302083, 664592117, 384219990,\n",
    "  614764248, 662766482, 638629097, 775250190, 156332497, 679237742, 634224458,\n",
    "  653574784, 675431271, 943934999, 942114501, 622737738, 612344730, 610260322,\n",
    "  701547123, 589831718, 580642043, 527591471, 910418754, 357241735, 644461337,\n",
    "  881458615, 958830659, 860252770, 666299222, 464415161, 881448795, 522158088,\n",
    "  553119108\n",
    "]\n",
    "\n",
    "filtered_infra_application_ids = list(set(filtered_projects_ids) - set(ai_application))\n",
    "\n",
    "len(filtered_infra_application_ids)"
   ]
  },
  {
   "cell_type": "code",
   "execution_count": null,
   "id": "cbf1c92b",
   "metadata": {},
   "outputs": [],
   "source": []
  }
 ],
 "metadata": {
  "kernelspec": {
   "display_name": "Python 3",
   "language": "python",
   "name": "python3"
  },
  "language_info": {
   "codemirror_mode": {
    "name": "ipython",
    "version": 3
   },
   "file_extension": ".py",
   "mimetype": "text/x-python",
   "name": "python",
   "nbconvert_exporter": "python",
   "pygments_lexer": "ipython3",
   "version": "3.9.6"
  }
 },
 "nbformat": 4,
 "nbformat_minor": 5
}

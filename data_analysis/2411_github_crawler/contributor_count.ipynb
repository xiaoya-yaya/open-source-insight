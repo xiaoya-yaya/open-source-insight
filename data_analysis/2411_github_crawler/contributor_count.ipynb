{
 "cells": [
  {
   "cell_type": "code",
   "execution_count": 15,
   "metadata": {},
   "outputs": [
    {
     "name": "stdout",
     "output_type": "stream",
     "text": [
      "The total number of contributors for mosn is 370\n"
     ]
    }
   ],
   "source": [
    "import requests\n",
    "\n",
    "def get_repos(org_name, token):\n",
    "    repos = []\n",
    "    page = 1\n",
    "    while True:\n",
    "        url = f'https://api.github.com/orgs/{org_name}/repos?page={page}&per_page=100'\n",
    "        headers = {'Authorization': f'token {token}'}\n",
    "        response = requests.get(url, headers=headers)\n",
    "        if response.status_code != 200:\n",
    "            break\n",
    "        page_repos = response.json()\n",
    "        if not page_repos:\n",
    "            break\n",
    "        repos.extend(page_repos)\n",
    "        page += 1\n",
    "    return [repo for repo in repos if not repo['fork']]\n",
    "\n",
    "def get_contributors(repo_name, org_name, token):\n",
    "    contributors = []\n",
    "    page = 1\n",
    "    while True:\n",
    "        url = f'https://api.github.com/repos/{org_name}/{repo_name}/contributors?page={page}&per_page=100'\n",
    "        headers = {'Authorization': f'token {token}'}\n",
    "        response = requests.get(url, headers=headers)\n",
    "        if response.status_code != 200:\n",
    "            break\n",
    "        page_contributors = response.json()\n",
    "        if not page_contributors:\n",
    "            break\n",
    "        contributors.extend(page_contributors)\n",
    "        page += 1\n",
    "    return contributors\n",
    "\n",
    "def count_and_save_contributors(org_name, token):\n",
    "    repos = get_repos(org_name, token)\n",
    "    contributors_details = []\n",
    "\n",
    "    for repo in repos:\n",
    "        contributors = get_contributors(repo['name'], org_name, token)\n",
    "        for contributor in contributors:\n",
    "            contributor_id = contributor['id']\n",
    "            contributor_login = contributor['login']\n",
    "            contributors_details.append({\n",
    "                'id': contributor_id,\n",
    "                'login': contributor_login\n",
    "            })\n",
    "    return len(contributors_details)\n",
    "\n",
    "org_name = 'mosn'\n",
    "contributors_count = count_and_save_contributors(org_name, token)\n",
    "print(f'The total number of contributors for {org_name} is {contributors_count}')\n"
   ]
  },
  {
   "cell_type": "code",
   "execution_count": 19,
   "metadata": {},
   "outputs": [
    {
     "name": "stdout",
     "output_type": "stream",
     "text": [
      "The total number of contributors for mosn is 227\n"
     ]
    }
   ],
   "source": [
    "import requests\n",
    "\n",
    "def get_repos(org_name, token):\n",
    "    repos = []\n",
    "    page = 1\n",
    "    while True:\n",
    "        url = f'https://api.github.com/orgs/{org_name}/repos?page={page}&per_page=100'\n",
    "        headers = {'Authorization': f'token {token}'}\n",
    "        response = requests.get(url, headers=headers)\n",
    "        if response.status_code != 200:\n",
    "            break\n",
    "        page_repos = response.json()\n",
    "        if not page_repos:\n",
    "            break\n",
    "        repos.extend(page_repos)\n",
    "        page += 1\n",
    "    return [repo for repo in repos if not repo['fork']]\n",
    "\n",
    "def get_contributors(repo_name, org_name, token):\n",
    "    contributors = []\n",
    "    page = 1\n",
    "    while True:\n",
    "        url = f'https://api.github.com/repos/{org_name}/{repo_name}/contributors?page={page}&per_page=100'\n",
    "        headers = {'Authorization': f'token {token}'}\n",
    "        response = requests.get(url, headers=headers)\n",
    "        if response.status_code != 200:\n",
    "            break\n",
    "        page_contributors = response.json()\n",
    "        if not page_contributors:\n",
    "            break\n",
    "        contributors.extend(page_contributors)\n",
    "        page += 1\n",
    "    return contributors\n",
    "\n",
    "def count_and_save_contributors(org_name, token):\n",
    "    repos = get_repos(org_name, token)\n",
    "    contributors_set = set()\n",
    "    contributors_details = []\n",
    "\n",
    "    for repo in repos:\n",
    "        contributors = get_contributors(repo['name'], org_name, token)\n",
    "        for contributor in contributors:\n",
    "            contributor_id = contributor['id']\n",
    "            contributor_login = contributor['login']\n",
    "            if contributor_id not in contributors_set:\n",
    "                contributors_set.add(contributor_id)\n",
    "                contributors_details.append({\n",
    "                    'id': contributor_id,\n",
    "                    'login': contributor_login\n",
    "                })\n",
    "\n",
    "    return len(contributors_set)\n",
    "\n",
    "org_name = 'mosn'\n",
    "contributors_count = count_and_save_contributors(org_name, token)\n",
    "print(f'The total number of contributors for {org_name} is {contributors_count}')\n",
    "\n",
    "\n"
   ]
  },
  {
   "cell_type": "code",
   "execution_count": null,
   "metadata": {},
   "outputs": [],
   "source": []
  }
 ],
 "metadata": {
  "kernelspec": {
   "display_name": "Python 3",
   "language": "python",
   "name": "python3"
  },
  "language_info": {
   "codemirror_mode": {
    "name": "ipython",
    "version": 3
   },
   "file_extension": ".py",
   "mimetype": "text/x-python",
   "name": "python",
   "nbconvert_exporter": "python",
   "pygments_lexer": "ipython3",
   "version": "3.undefined.undefined"
  }
 },
 "nbformat": 4,
 "nbformat_minor": 2
}
